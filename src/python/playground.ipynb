{
 "metadata": {
  "language_info": {
   "codemirror_mode": {
    "name": "ipython",
    "version": 3
   },
   "file_extension": ".py",
   "mimetype": "text/x-python",
   "name": "python",
   "nbconvert_exporter": "python",
   "pygments_lexer": "ipython3",
   "version": "3.8.5-final"
  },
  "orig_nbformat": 2,
  "kernelspec": {
   "name": "Python 3.8.5 64-bit",
   "display_name": "Python 3.8.5 64-bit",
   "metadata": {
    "interpreter": {
     "hash": "1ee38ef4a5a9feb55287fd749643f13d043cb0a7addaab2a9c224cbe137c0062"
    }
   }
  }
 },
 "nbformat": 4,
 "nbformat_minor": 2,
 "cells": [
  {
   "cell_type": "code",
   "execution_count": null,
   "metadata": {},
   "outputs": [],
   "source": [
    "import pandas as pd\n",
    "\n",
    "df = pd.DataFrame([\n",
    "    {'name': 'Maisey', 'breed': 'Treeing Walker Coonhound'},\n",
    "    {'name': 'Oscar', 'breed': 'German Shorthaired Pointer'},\n",
    "    {'name': 'Ramsay', 'breed': 'Native American Indian Dog'},\n",
    "    {'name': 'Comet', 'breed': 'Whippet'}\n",
    "])\n",
    "df"
   ]
  },
  {
   "cell_type": "code",
   "execution_count": 154,
   "metadata": {},
   "outputs": [
    {
     "output_type": "execute_result",
     "data": {
      "text/plain": "      name                       breed  weight  age\n0    Comet                     Whippet      20    1\n1    Reese                     Whippet      30    2\n2  Prancer                     Whippet      35   10\n3   Maisey    Treeing Walker Coonhound      65   11\n4    Butch    Treeing Walker Coonhound      80    7\n5    Oscar  German Shorthaired Pointer      75    3\n6   Minnie  German Shorthaired Pointer      60    5",
      "text/html": "<div>\n<style scoped>\n    .dataframe tbody tr th:only-of-type {\n        vertical-align: middle;\n    }\n\n    .dataframe tbody tr th {\n        vertical-align: top;\n    }\n\n    .dataframe thead th {\n        text-align: right;\n    }\n</style>\n<table border=\"1\" class=\"dataframe\">\n  <thead>\n    <tr style=\"text-align: right;\">\n      <th></th>\n      <th>name</th>\n      <th>breed</th>\n      <th>weight</th>\n      <th>age</th>\n    </tr>\n  </thead>\n  <tbody>\n    <tr>\n      <th>0</th>\n      <td>Comet</td>\n      <td>Whippet</td>\n      <td>20</td>\n      <td>1</td>\n    </tr>\n    <tr>\n      <th>1</th>\n      <td>Reese</td>\n      <td>Whippet</td>\n      <td>30</td>\n      <td>2</td>\n    </tr>\n    <tr>\n      <th>2</th>\n      <td>Prancer</td>\n      <td>Whippet</td>\n      <td>35</td>\n      <td>10</td>\n    </tr>\n    <tr>\n      <th>3</th>\n      <td>Maisey</td>\n      <td>Treeing Walker Coonhound</td>\n      <td>65</td>\n      <td>11</td>\n    </tr>\n    <tr>\n      <th>4</th>\n      <td>Butch</td>\n      <td>Treeing Walker Coonhound</td>\n      <td>80</td>\n      <td>7</td>\n    </tr>\n    <tr>\n      <th>5</th>\n      <td>Oscar</td>\n      <td>German Shorthaired Pointer</td>\n      <td>75</td>\n      <td>3</td>\n    </tr>\n    <tr>\n      <th>6</th>\n      <td>Minnie</td>\n      <td>German Shorthaired Pointer</td>\n      <td>60</td>\n      <td>5</td>\n    </tr>\n  </tbody>\n</table>\n</div>"
     },
     "metadata": {},
     "execution_count": 154
    }
   ],
   "source": [
    "import pandas as pd\n",
    "\n",
    "df = pd.DataFrame([\n",
    "    {'name': 'Comet', 'breed': 'Whippet', 'weight': 20, 'age': 1},\n",
    "    {'name': 'Reese', 'breed': 'Whippet', 'weight': 30, 'age': 2},\n",
    "    {'name': 'Prancer', 'breed': 'Whippet', 'weight': 35, 'age': 10},\n",
    "        {'name': 'Maisey', 'breed': 'Treeing Walker Coonhound', 'weight': 65, 'age': 11},\n",
    "    {'name': 'Butch', 'breed': 'Treeing Walker Coonhound', 'weight': 80, 'age': 7},\n",
    "    {'name': 'Oscar', 'breed': 'German Shorthaired Pointer', 'weight': 75, 'age': 3},\n",
    "    {'name': 'Minnie', 'breed': 'German Shorthaired Pointer', 'weight': 60, 'age': 5}\n",
    "])\n",
    "df"
   ]
  },
  {
   "cell_type": "code",
   "execution_count": 155,
   "metadata": {},
   "outputs": [
    {
     "output_type": "execute_result",
     "data": {
      "text/plain": "                               weight       age\nbreed                                          \nGerman Shorthaired Pointer  67.500000  4.000000\nTreeing Walker Coonhound    72.500000  9.000000\nWhippet                     28.333333  4.333333",
      "text/html": "<div>\n<style scoped>\n    .dataframe tbody tr th:only-of-type {\n        vertical-align: middle;\n    }\n\n    .dataframe tbody tr th {\n        vertical-align: top;\n    }\n\n    .dataframe thead th {\n        text-align: right;\n    }\n</style>\n<table border=\"1\" class=\"dataframe\">\n  <thead>\n    <tr style=\"text-align: right;\">\n      <th></th>\n      <th>weight</th>\n      <th>age</th>\n    </tr>\n    <tr>\n      <th>breed</th>\n      <th></th>\n      <th></th>\n    </tr>\n  </thead>\n  <tbody>\n    <tr>\n      <th>German Shorthaired Pointer</th>\n      <td>67.500000</td>\n      <td>4.000000</td>\n    </tr>\n    <tr>\n      <th>Treeing Walker Coonhound</th>\n      <td>72.500000</td>\n      <td>9.000000</td>\n    </tr>\n    <tr>\n      <th>Whippet</th>\n      <td>28.333333</td>\n      <td>4.333333</td>\n    </tr>\n  </tbody>\n</table>\n</div>"
     },
     "metadata": {},
     "execution_count": 155
    }
   ],
   "source": [
    "df.groupby(['breed']).mean()\n",
    "#df.groupby(['breed'])['weight'].mean()"
   ]
  },
  {
   "cell_type": "code",
   "execution_count": 153,
   "metadata": {},
   "outputs": [
    {
     "output_type": "execute_result",
     "data": {
      "text/plain": "breed\nGerman Shorthaired Pointer    2\nTreeing Walker Coonhound      2\nWhippet                       3\nName: count, dtype: int64"
     },
     "metadata": {},
     "execution_count": 153
    }
   ],
   "source": [
    "df = df.drop(columns=['count'], errors='ignore')\n",
    "df['count'] = 0\n",
    "df.groupby(['breed']).count()['count']"
   ]
  },
  {
   "cell_type": "code",
   "execution_count": 156,
   "metadata": {},
   "outputs": [
    {
     "output_type": "execute_result",
     "data": {
      "text/plain": "      sport       team            name\n0    hockey     Oilers   Wayne Gretzky\n1    hockey     Oilers  Marty McSorley\n2    hockey     Oilers      Grant Fuhr\n3    hockey     Bruins   Phil Esposito\n4    hockey     Bruins       Bobby Orr\n5  baseball  Cardinals      Bob Gibson",
      "text/html": "<div>\n<style scoped>\n    .dataframe tbody tr th:only-of-type {\n        vertical-align: middle;\n    }\n\n    .dataframe tbody tr th {\n        vertical-align: top;\n    }\n\n    .dataframe thead th {\n        text-align: right;\n    }\n</style>\n<table border=\"1\" class=\"dataframe\">\n  <thead>\n    <tr style=\"text-align: right;\">\n      <th></th>\n      <th>sport</th>\n      <th>team</th>\n      <th>name</th>\n    </tr>\n  </thead>\n  <tbody>\n    <tr>\n      <th>0</th>\n      <td>hockey</td>\n      <td>Oilers</td>\n      <td>Wayne Gretzky</td>\n    </tr>\n    <tr>\n      <th>1</th>\n      <td>hockey</td>\n      <td>Oilers</td>\n      <td>Marty McSorley</td>\n    </tr>\n    <tr>\n      <th>2</th>\n      <td>hockey</td>\n      <td>Oilers</td>\n      <td>Grant Fuhr</td>\n    </tr>\n    <tr>\n      <th>3</th>\n      <td>hockey</td>\n      <td>Bruins</td>\n      <td>Phil Esposito</td>\n    </tr>\n    <tr>\n      <th>4</th>\n      <td>hockey</td>\n      <td>Bruins</td>\n      <td>Bobby Orr</td>\n    </tr>\n    <tr>\n      <th>5</th>\n      <td>baseball</td>\n      <td>Cardinals</td>\n      <td>Bob Gibson</td>\n    </tr>\n  </tbody>\n</table>\n</div>"
     },
     "metadata": {},
     "execution_count": 156
    }
   ],
   "source": [
    "players = pd.DataFrame([\n",
    "    {'sport': 'hockey', 'team': 'Oilers', 'name': 'Wayne Gretzky'},\n",
    "    {'sport': 'hockey', 'team': 'Oilers', 'name': 'Marty McSorley'},\n",
    "    {'sport': 'hockey', 'team': 'Oilers', 'name': 'Grant Fuhr'},\n",
    "    {'sport': 'hockey', 'team': 'Bruins', 'name': 'Phil Esposito'},\n",
    "    {'sport': 'hockey', 'team': 'Bruins', 'name': 'Bobby Orr'},\n",
    "    {'sport': 'baseball', 'team': 'Cardinals', 'name': 'Bob Gibson'}\n",
    "])\n",
    "players"
   ]
  },
  {
   "cell_type": "code",
   "execution_count": null,
   "metadata": {},
   "outputs": [],
   "source": []
  }
 ]
}