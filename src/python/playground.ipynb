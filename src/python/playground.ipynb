{
 "metadata": {
  "language_info": {
   "codemirror_mode": {
    "name": "ipython",
    "version": 3
   },
   "file_extension": ".py",
   "mimetype": "text/x-python",
   "name": "python",
   "nbconvert_exporter": "python",
   "pygments_lexer": "ipython3",
   "version": "3.8.5-final"
  },
  "orig_nbformat": 2,
  "kernelspec": {
   "name": "Python 3.8.5 64-bit",
   "display_name": "Python 3.8.5 64-bit",
   "metadata": {
    "interpreter": {
     "hash": "1ee38ef4a5a9feb55287fd749643f13d043cb0a7addaab2a9c224cbe137c0062"
    }
   }
  }
 },
 "nbformat": 4,
 "nbformat_minor": 2,
 "cells": [
  {
   "cell_type": "code",
   "execution_count": 192,
   "metadata": {},
   "outputs": [
    {
     "output_type": "execute_result",
     "data": {
      "text/plain": "     name                       breed\n0  Maisey    Treeing Walker Coonhound\n1   Oscar  German Shorthaired Pointer\n2  Ramsay  Native American Indian Dog\n3   Comet                     Whippet",
      "text/html": "<div>\n<style scoped>\n    .dataframe tbody tr th:only-of-type {\n        vertical-align: middle;\n    }\n\n    .dataframe tbody tr th {\n        vertical-align: top;\n    }\n\n    .dataframe thead th {\n        text-align: right;\n    }\n</style>\n<table border=\"1\" class=\"dataframe\">\n  <thead>\n    <tr style=\"text-align: right;\">\n      <th></th>\n      <th>name</th>\n      <th>breed</th>\n    </tr>\n  </thead>\n  <tbody>\n    <tr>\n      <th>0</th>\n      <td>Maisey</td>\n      <td>Treeing Walker Coonhound</td>\n    </tr>\n    <tr>\n      <th>1</th>\n      <td>Oscar</td>\n      <td>German Shorthaired Pointer</td>\n    </tr>\n    <tr>\n      <th>2</th>\n      <td>Ramsay</td>\n      <td>Native American Indian Dog</td>\n    </tr>\n    <tr>\n      <th>3</th>\n      <td>Comet</td>\n      <td>Whippet</td>\n    </tr>\n  </tbody>\n</table>\n</div>"
     },
     "metadata": {},
     "execution_count": 192
    }
   ],
   "source": [
    "import pandas as pd\n",
    "\n",
    "df = pd.DataFrame([\n",
    "    {'name': 'Maisey', 'breed': 'Treeing Walker Coonhound'},\n",
    "    {'name': 'Oscar', 'breed': 'German Shorthaired Pointer'},\n",
    "    {'name': 'Ramsay', 'breed': 'Native American Indian Dog'},\n",
    "    {'name': 'Comet', 'breed': 'Whippet'}\n",
    "])\n",
    "df"
   ]
  },
  {
   "cell_type": "code",
   "execution_count": 198,
   "metadata": {},
   "outputs": [
    {
     "output_type": "execute_result",
     "data": {
      "text/plain": "     name                       breed\n1   Oscar  German Shorthaired Pointer\n2  Ramsay  Native American Indian Dog",
      "text/html": "<div>\n<style scoped>\n    .dataframe tbody tr th:only-of-type {\n        vertical-align: middle;\n    }\n\n    .dataframe tbody tr th {\n        vertical-align: top;\n    }\n\n    .dataframe thead th {\n        text-align: right;\n    }\n</style>\n<table border=\"1\" class=\"dataframe\">\n  <thead>\n    <tr style=\"text-align: right;\">\n      <th></th>\n      <th>name</th>\n      <th>breed</th>\n    </tr>\n  </thead>\n  <tbody>\n    <tr>\n      <th>1</th>\n      <td>Oscar</td>\n      <td>German Shorthaired Pointer</td>\n    </tr>\n    <tr>\n      <th>2</th>\n      <td>Ramsay</td>\n      <td>Native American Indian Dog</td>\n    </tr>\n  </tbody>\n</table>\n</div>"
     },
     "metadata": {},
     "execution_count": 198
    }
   ],
   "source": [
    "df[1:3]"
   ]
  },
  {
   "cell_type": "code",
   "execution_count": 191,
   "metadata": {},
   "outputs": [
    {
     "output_type": "execute_result",
     "data": {
      "text/plain": "CategoricalDtype(categories=['German Shorthaired Pointer', 'Native American Indian Dog',\n                  'Treeing Walker Coonhound', 'Whippet'],\n                 ordered=False)"
     },
     "metadata": {},
     "execution_count": 191
    }
   ],
   "source": [
    "#df['breed'].astype('category')\n",
    "df = df['breed'].astype('category')\n",
    "df.dtypes"
   ]
  },
  {
   "cell_type": "code",
   "execution_count": null,
   "metadata": {},
   "outputs": [],
   "source": [
    "import pandas as pd\n",
    "\n",
    "df = pd.DataFrame([\n",
    "    {'name': 'Comet', 'breed': 'Whippet', 'weight': 20, 'age': 1},\n",
    "    {'name': 'Reese', 'breed': 'Whippet', 'weight': 30, 'age': 2},\n",
    "    {'name': 'Prancer', 'breed': 'Whippet', 'weight': 35, 'age': 10},\n",
    "        {'name': 'Maisey', 'breed': 'Treeing Walker Coonhound', 'weight': 65, 'age': 11},\n",
    "    {'name': 'Butch', 'breed': 'Treeing Walker Coonhound', 'weight': 80, 'age': 7},\n",
    "    {'name': 'Oscar', 'breed': 'German Shorthaired Pointer', 'weight': 75, 'age': 3},\n",
    "    {'name': 'Minnie', 'breed': 'German Shorthaired Pointer', 'weight': 60, 'age': 5}\n",
    "])\n",
    "df"
   ]
  },
  {
   "cell_type": "code",
   "execution_count": null,
   "metadata": {},
   "outputs": [],
   "source": [
    "df.groupby(['breed']).mean()\n",
    "#df.groupby(['breed'])['weight'].mean()"
   ]
  },
  {
   "cell_type": "code",
   "execution_count": null,
   "metadata": {},
   "outputs": [],
   "source": [
    "df = df.drop(columns=['count'], errors='ignore')\n",
    "df['count'] = 0\n",
    "df.groupby(['breed']).count()['count']"
   ]
  },
  {
   "cell_type": "code",
   "execution_count": null,
   "metadata": {},
   "outputs": [],
   "source": [
    "players = pd.DataFrame([\n",
    "    {'sport': 'hockey', 'team': 'Oilers', 'name': 'Wayne Gretzky'},\n",
    "    {'sport': 'hockey', 'team': 'Oilers', 'name': 'Marty McSorley'},\n",
    "    {'sport': 'hockey', 'team': 'Oilers', 'name': 'Grant Fuhr'},\n",
    "    {'sport': 'hockey', 'team': 'Bruins', 'name': 'Phil Esposito'},\n",
    "    {'sport': 'hockey', 'team': 'Bruins', 'name': 'Bobby Orr'},\n",
    "    {'sport': 'baseball', 'team': 'Cardinals', 'name': 'Bob Gibson'}\n",
    "])\n",
    "players"
   ]
  },
  {
   "cell_type": "code",
   "execution_count": null,
   "metadata": {},
   "outputs": [],
   "source": [
    "#layers['count'] = 1\n",
    "#players.groupby(['sport', 'team']).count()['count']\n",
    "players.groupby(['sport', 'team']).count()"
   ]
  },
  {
   "cell_type": "code",
   "execution_count": 183,
   "metadata": {
    "tags": []
   },
   "outputs": [
    {
     "output_type": "execute_result",
     "data": {
      "text/plain": "85"
     },
     "metadata": {},
     "execution_count": 183
    }
   ],
   "source": [
    "subset_df = pd.DataFrame()\n",
    "row_count = 10\n",
    "for df in pd.read_csv('./movies/tmdb_5000_movies.csv', chunksize=row_count):\n",
    "    filtered_df = df[df['vote_average'] >= 8]\n",
    "    subset_df = pd.concat([subset_df, filtered_df])\n",
    "#print(subset_df)\n",
    "len(subset_df.index)"
   ]
  }
 ]
}